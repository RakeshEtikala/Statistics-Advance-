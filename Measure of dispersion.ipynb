{
 "cells": [
  {
   "cell_type": "markdown",
   "id": "96de3223-edf6-4cbe-9b19-9caf0d5fc145",
   "metadata": {},
   "source": [
    "## Measure of Dispersion"
   ]
  },
  {
   "cell_type": "code",
   "execution_count": 2,
   "id": "6f293584-1674-4918-b331-0a2e08939774",
   "metadata": {},
   "outputs": [],
   "source": [
    "ages_lst = [23,43,23,56,74,35,6,8,78,45]"
   ]
  },
  {
   "cell_type": "code",
   "execution_count": 3,
   "id": "77892e4f-41c4-4bb4-8ecf-314ef325ca75",
   "metadata": {},
   "outputs": [],
   "source": [
    "import numpy as np"
   ]
  },
  {
   "cell_type": "code",
   "execution_count": 5,
   "id": "7c34fe99-7268-4995-9b25-6a6252bb5c6b",
   "metadata": {},
   "outputs": [],
   "source": [
    "mean = np.mean(ages_lst)"
   ]
  },
  {
   "cell_type": "code",
   "execution_count": 6,
   "id": "72f30720-bab6-4e5c-a06e-16045cdc0b41",
   "metadata": {},
   "outputs": [
    {
     "data": {
      "text/plain": [
       "39.1"
      ]
     },
     "execution_count": 6,
     "metadata": {},
     "output_type": "execute_result"
    }
   ],
   "source": [
    "mean"
   ]
  },
  {
   "cell_type": "code",
   "execution_count": 8,
   "id": "09b0c880-ee8a-4b06-9bdc-d0b891d186f2",
   "metadata": {},
   "outputs": [],
   "source": [
    "var = np.var(ages_lst)"
   ]
  },
  {
   "cell_type": "code",
   "execution_count": 9,
   "id": "1fa48b70-dcea-44ee-9672-6fd54699419f",
   "metadata": {},
   "outputs": [
    {
     "data": {
      "text/plain": [
       "566.49"
      ]
     },
     "execution_count": 9,
     "metadata": {},
     "output_type": "execute_result"
    }
   ],
   "source": [
    "var"
   ]
  },
  {
   "cell_type": "code",
   "execution_count": 10,
   "id": "3ea91103-4010-4b93-974b-7d758c1e3ff3",
   "metadata": {},
   "outputs": [],
   "source": [
    "std = np.std(ages_lst)"
   ]
  },
  {
   "cell_type": "code",
   "execution_count": 13,
   "id": "4578e681-5d12-4a4e-8b41-3be3ca0fb717",
   "metadata": {},
   "outputs": [
    {
     "data": {
      "text/plain": [
       "23.801050396988785"
      ]
     },
     "execution_count": 13,
     "metadata": {},
     "output_type": "execute_result"
    }
   ],
   "source": [
    "std"
   ]
  },
  {
   "cell_type": "code",
   "execution_count": 14,
   "id": "d5c9b36d-d331-4c4c-a61c-0d26df7d5ff1",
   "metadata": {},
   "outputs": [],
   "source": [
    "import pandas as pd"
   ]
  },
  {
   "cell_type": "code",
   "execution_count": 21,
   "id": "cac176e1-e53d-4ae5-9390-7265e5082917",
   "metadata": {},
   "outputs": [],
   "source": [
    "data = [[1,2,3],[34,23,45],[32,34,21]]"
   ]
  },
  {
   "cell_type": "code",
   "execution_count": 22,
   "id": "e08a14c2-bdef-42f0-9d27-5f55e859a51f",
   "metadata": {},
   "outputs": [
    {
     "data": {
      "text/plain": [
       "[[1, 2, 3], [34, 23, 45], [32, 34, 21]]"
      ]
     },
     "execution_count": 22,
     "metadata": {},
     "output_type": "execute_result"
    }
   ],
   "source": [
    "data"
   ]
  },
  {
   "cell_type": "code",
   "execution_count": 25,
   "id": "ab5f0488-b327-4910-b8a5-19b6da7eb6ba",
   "metadata": {},
   "outputs": [
    {
     "data": {
      "text/html": [
       "<div>\n",
       "<style scoped>\n",
       "    .dataframe tbody tr th:only-of-type {\n",
       "        vertical-align: middle;\n",
       "    }\n",
       "\n",
       "    .dataframe tbody tr th {\n",
       "        vertical-align: top;\n",
       "    }\n",
       "\n",
       "    .dataframe thead th {\n",
       "        text-align: right;\n",
       "    }\n",
       "</style>\n",
       "<table border=\"1\" class=\"dataframe\">\n",
       "  <thead>\n",
       "    <tr style=\"text-align: right;\">\n",
       "      <th></th>\n",
       "      <th>a</th>\n",
       "      <th>b</th>\n",
       "      <th>c</th>\n",
       "    </tr>\n",
       "  </thead>\n",
       "  <tbody>\n",
       "    <tr>\n",
       "      <th>0</th>\n",
       "      <td>1</td>\n",
       "      <td>2</td>\n",
       "      <td>3</td>\n",
       "    </tr>\n",
       "    <tr>\n",
       "      <th>1</th>\n",
       "      <td>34</td>\n",
       "      <td>23</td>\n",
       "      <td>45</td>\n",
       "    </tr>\n",
       "    <tr>\n",
       "      <th>2</th>\n",
       "      <td>32</td>\n",
       "      <td>34</td>\n",
       "      <td>21</td>\n",
       "    </tr>\n",
       "  </tbody>\n",
       "</table>\n",
       "</div>"
      ],
      "text/plain": [
       "    a   b   c\n",
       "0   1   2   3\n",
       "1  34  23  45\n",
       "2  32  34  21"
      ]
     },
     "execution_count": 25,
     "metadata": {},
     "output_type": "execute_result"
    }
   ],
   "source": [
    "df = pd.DataFrame(data, columns = [\"a\",\"b\",\"c\"])\n",
    "df"
   ]
  },
  {
   "cell_type": "code",
   "execution_count": 33,
   "id": "da78ccc0-11e0-436f-9da4-88f8fb3fe8c8",
   "metadata": {},
   "outputs": [
    {
     "data": {
      "text/plain": [
       "a    342.333333\n",
       "b    264.333333\n",
       "c    444.000000\n",
       "dtype: float64"
      ]
     },
     "execution_count": 33,
     "metadata": {},
     "output_type": "execute_result"
    }
   ],
   "source": [
    "## Column wise varaince\n",
    "df.var()"
   ]
  },
  {
   "cell_type": "code",
   "execution_count": 32,
   "id": "ac63e2b9-205a-4e3e-958f-d86ad7fb4ee2",
   "metadata": {},
   "outputs": [
    {
     "data": {
      "text/plain": [
       "0      1.0\n",
       "1    121.0\n",
       "2     49.0\n",
       "dtype: float64"
      ]
     },
     "execution_count": 32,
     "metadata": {},
     "output_type": "execute_result"
    }
   ],
   "source": [
    "## Row wise varaince\n",
    "df.var(axis = 1)"
   ]
  },
  {
   "cell_type": "code",
   "execution_count": null,
   "id": "deadaf27-e632-4b97-b9a4-d6251a50a886",
   "metadata": {},
   "outputs": [],
   "source": []
  }
 ],
 "metadata": {
  "kernelspec": {
   "display_name": "Python 3 (ipykernel)",
   "language": "python",
   "name": "python3"
  },
  "language_info": {
   "codemirror_mode": {
    "name": "ipython",
    "version": 3
   },
   "file_extension": ".py",
   "mimetype": "text/x-python",
   "name": "python",
   "nbconvert_exporter": "python",
   "pygments_lexer": "ipython3",
   "version": "3.10.8"
  }
 },
 "nbformat": 4,
 "nbformat_minor": 5
}
