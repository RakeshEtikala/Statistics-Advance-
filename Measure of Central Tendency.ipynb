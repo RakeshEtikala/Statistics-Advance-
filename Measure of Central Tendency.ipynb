{
 "cells": [
  {
   "cell_type": "markdown",
   "id": "908b475f-65e1-48c9-904e-72e61213c970",
   "metadata": {},
   "source": [
    "## Measure of Central Tendency"
   ]
  },
  {
   "cell_type": "code",
   "execution_count": 1,
   "id": "045a37a8-075a-4289-bc6f-ef8117a8cb83",
   "metadata": {},
   "outputs": [],
   "source": [
    "## Mean (Average)\n",
    "age = [12,13,14,21,24]"
   ]
  },
  {
   "cell_type": "code",
   "execution_count": 3,
   "id": "6bcfb93e-9632-4297-90cd-bc299aba392d",
   "metadata": {},
   "outputs": [],
   "source": [
    "import numpy as np"
   ]
  },
  {
   "cell_type": "code",
   "execution_count": 4,
   "id": "bdacf51d-cc02-4e1e-bf0b-3fa2b5f88291",
   "metadata": {},
   "outputs": [
    {
     "data": {
      "text/plain": [
       "16.8"
      ]
     },
     "execution_count": 4,
     "metadata": {},
     "output_type": "execute_result"
    }
   ],
   "source": [
    "np.mean(age)"
   ]
  },
  {
   "cell_type": "code",
   "execution_count": 5,
   "id": "350afc2c-03d6-44f7-9ec1-d3a46b09290d",
   "metadata": {},
   "outputs": [],
   "source": [
    "Weights = [45,34,55,76,45,35,89,98,75]"
   ]
  },
  {
   "cell_type": "code",
   "execution_count": 6,
   "id": "a3fab6ad-f88b-449d-a3ea-2ded06c22d2b",
   "metadata": {},
   "outputs": [
    {
     "data": {
      "text/plain": [
       "61.333333333333336"
      ]
     },
     "execution_count": 6,
     "metadata": {},
     "output_type": "execute_result"
    }
   ],
   "source": [
    "np.mean(Weights)"
   ]
  },
  {
   "cell_type": "code",
   "execution_count": 8,
   "id": "fe6039ef-2836-402b-8a4f-fd7179508e5c",
   "metadata": {},
   "outputs": [],
   "source": [
    "Weights = [45,34,55,76,45,35,89,98,75,1000]"
   ]
  },
  {
   "cell_type": "code",
   "execution_count": 9,
   "id": "07c7920d-8881-489c-ab1c-4ef60823cf12",
   "metadata": {},
   "outputs": [
    {
     "data": {
      "text/plain": [
       "155.2"
      ]
     },
     "execution_count": 9,
     "metadata": {},
     "output_type": "execute_result"
    }
   ],
   "source": [
    "np.mean(Weights)"
   ]
  },
  {
   "cell_type": "code",
   "execution_count": 10,
   "id": "2e726605-d339-48e3-937a-2f86b9ca79f8",
   "metadata": {},
   "outputs": [
    {
     "data": {
      "text/plain": [
       "65.0"
      ]
     },
     "execution_count": 10,
     "metadata": {},
     "output_type": "execute_result"
    }
   ],
   "source": [
    "np.median(Weights)"
   ]
  },
  {
   "cell_type": "code",
   "execution_count": 13,
   "id": "ddeb6cbd-f5ca-4ef0-a619-4d6a15008891",
   "metadata": {},
   "outputs": [],
   "source": [
    "from scipy import stats"
   ]
  },
  {
   "cell_type": "code",
   "execution_count": 15,
   "id": "3c9b6dfd-5588-40a0-b08d-70911ce8e61f",
   "metadata": {},
   "outputs": [
    {
     "name": "stderr",
     "output_type": "stream",
     "text": [
      "/tmp/ipykernel_77/4005370766.py:1: FutureWarning: Unlike other reduction functions (e.g. `skew`, `kurtosis`), the default behavior of `mode` typically preserves the axis it acts along. In SciPy 1.11.0, this behavior will change: the default value of `keepdims` will become False, the `axis` over which the statistic is taken will be eliminated, and the value None will no longer be accepted. Set `keepdims` to True or False to avoid this warning.\n",
      "  stats.mode(Weights)\n"
     ]
    },
    {
     "data": {
      "text/plain": [
       "ModeResult(mode=array([45]), count=array([2]))"
      ]
     },
     "execution_count": 15,
     "metadata": {},
     "output_type": "execute_result"
    }
   ],
   "source": [
    "stats.mode(Weights)"
   ]
  },
  {
   "cell_type": "code",
   "execution_count": null,
   "id": "4b1e2594-3a24-4d02-b3e9-7f87883b8623",
   "metadata": {},
   "outputs": [],
   "source": []
  }
 ],
 "metadata": {
  "kernelspec": {
   "display_name": "Python 3 (ipykernel)",
   "language": "python",
   "name": "python3"
  },
  "language_info": {
   "codemirror_mode": {
    "name": "ipython",
    "version": 3
   },
   "file_extension": ".py",
   "mimetype": "text/x-python",
   "name": "python",
   "nbconvert_exporter": "python",
   "pygments_lexer": "ipython3",
   "version": "3.10.8"
  }
 },
 "nbformat": 4,
 "nbformat_minor": 5
}
